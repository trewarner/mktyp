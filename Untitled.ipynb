{
 "cells": [
  {
   "cell_type": "markdown",
   "metadata": {},
   "source": [
    "# MKTYP -- Tim's notebook"
   ]
  },
  {
   "cell_type": "code",
   "execution_count": 1,
   "metadata": {},
   "outputs": [
    {
     "name": "stdout",
     "output_type": "stream",
     "text": [
      "Happy Birthday 1\n",
      "Happy Birthday 2\n",
      "Happy Birthday 3\n",
      "Happy Birthday 4\n",
      "Happy Birthday 5\n",
      "Happy Birthday 6\n",
      "Happy Birthday 7\n",
      "Happy Birthday 8\n",
      "Happy Birthday 9\n",
      "Happy Birthday 10\n",
      "Happy Birthday 11\n",
      "Happy Birthday 12\n",
      "Happy Birthday 13\n",
      "Happy Birthday 14\n",
      "Happy Birthday 15\n",
      "Happy Birthday 16\n",
      "Happy Birthday 17\n",
      "Happy Birthday 18\n",
      "Happy Birthday 19\n"
     ]
    }
   ],
   "source": [
    "i=1\n",
    "while (i<=19):\n",
    "    print(\"Happy Birthday \"+str(i))\n",
    "    i=i+1"
   ]
  },
  {
   "cell_type": "code",
   "execution_count": null,
   "metadata": {},
   "outputs": [],
   "source": []
  }
 ],
 "metadata": {
  "kernelspec": {
   "display_name": "Python 3",
   "language": "python",
   "name": "python3"
  },
  "language_info": {
   "codemirror_mode": {
    "name": "ipython",
    "version": 3
   },
   "file_extension": ".py",
   "mimetype": "text/x-python",
   "name": "python",
   "nbconvert_exporter": "python",
   "pygments_lexer": "ipython3",
   "version": "3.7.0"
  }
 },
 "nbformat": 4,
 "nbformat_minor": 2
}
